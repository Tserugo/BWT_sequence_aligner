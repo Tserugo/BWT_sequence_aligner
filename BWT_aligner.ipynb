{
 "cells": [
  {
   "cell_type": "code",
   "execution_count": 4,
   "metadata": {},
   "outputs": [],
   "source": [
    "import numpy as np"
   ]
  },
  {
   "cell_type": "code",
   "execution_count": 7,
   "metadata": {},
   "outputs": [],
   "source": [
    "def rotation(surface):\n",
    "    \"\"\"\n",
    "    Создаёт матрицу с проворотом нашей строки\n",
    "    \"\"\"\n",
    "    matrics = []\n",
    "    for i in range(len(surface)):\n",
    "        matrics.append(surface[-(i+1):] + surface[:-(i+1)])\n",
    "    return np.array(matrics)"
   ]
  },
  {
   "cell_type": "code",
   "execution_count": 8,
   "metadata": {},
   "outputs": [],
   "source": [
    "def last_columns(matrics):\n",
    "    \"\"\"\n",
    "    Возвращает первый и последний вектора нашей вращающейся матрицы\n",
    "    \"\"\"\n",
    "    column_last = ''\n",
    "    column_first = ''\n",
    "    for i in range(len(matrics[0])):\n",
    "        column_last += matrics[i][-1]\n",
    "        column_first += matrics[i][0]\n",
    "    return column_first, column_last"
   ]
  },
  {
   "cell_type": "code",
   "execution_count": 5,
   "metadata": {},
   "outputs": [],
   "source": [
    "def bwt(surface: str):\n",
    "    \"\"\"\n",
    "    делает BWT преобразование строки\n",
    "    Возвращает начальный и конечный столбец\n",
    "    \"\"\"\n",
    "    surface = surface + '$'\n",
    "    surface_matrics = rotation(surface)\n",
    "    surface_matrics = sorted(surface_matrics)\n",
    "    last_column, first_column = last_columns(surface_matrics)\n",
    "    \n",
    "    return last_column, first_column"
   ]
  },
  {
   "cell_type": "code",
   "execution_count": 13,
   "metadata": {},
   "outputs": [
    {
     "data": {
      "text/plain": [
       "('$aaaaaaaaaaabbbbbbbbbbbbbbbbbbbds', 'abbabbbbabbbbbbdaabsba$bbbaaaabba')"
      ]
     },
     "execution_count": 13,
     "metadata": {},
     "output_type": "execute_result"
    }
   ],
   "source": [
    "bwt(\"bbaaabbbabbbasbabbdbababbbababba\")"
   ]
  },
  {
   "cell_type": "code",
   "execution_count": 9,
   "metadata": {},
   "outputs": [],
   "source": [
    "def ranking_vector(vector):\n",
    "    \"\"\"\n",
    "    Нумерует символы по порядку вхождения\n",
    "    \"\"\"\n",
    "    counter = {}\n",
    "    rancted_vector = []\n",
    "    for simbol in vector:\n",
    "        if simbol in counter:\n",
    "            counter[simbol] += 1\n",
    "            rancted_vector.append((simbol, counter[simbol]))\n",
    "        else:\n",
    "            counter[simbol] = 0\n",
    "            rancted_vector.append((simbol, counter[simbol]))\n",
    "    return rancted_vector\n"
   ]
  },
  {
   "cell_type": "code",
   "execution_count": 10,
   "metadata": {},
   "outputs": [],
   "source": [
    "def make_string(F, L):\n",
    "    \"\"\"\n",
    "    Из F и L собирает изначальную строку(чтобы по ней потом выстроить выравнивание)\n",
    "    \"\"\"\n",
    "    start = L[0]\n",
    "    string = []\n",
    "    string.append(start)\n",
    "    while start[0] != '$':\n",
    "        i = F.index(start)\n",
    "        start = L[i]\n",
    "        string.append(start)\n",
    "    return string"
   ]
  },
  {
   "cell_type": "code",
   "execution_count": 39,
   "metadata": {},
   "outputs": [],
   "source": [
    "def search_matches(string, substring):\n",
    "    F, L = bwt(string)\n",
    "    F = ranking_vector(F) # нумеруем\n",
    "    L = ranking_vector(L)  \n",
    "    # print(make_string(F,L))\n",
    "\n",
    "    substring = substring[::-1] # разворачиваем substring\n",
    "    substring += '#' # на конец substring добавляем #\n",
    "    substring_starts = []\n",
    "    for f in F:\n",
    "        if f[0] == substring[0]:\n",
    "            start = f\n",
    "            for simbol in substring[1:]:\n",
    "                i = F.index(start)\n",
    "                start = L[i]\n",
    "                if start[0] == simbol:\n",
    "                    continue\n",
    "                elif simbol == '#':\n",
    "                    substring_starts.append(F[i])\n",
    "                else:\n",
    "                    break\n",
    "    if not substring_starts:\n",
    "        print('0 matches')\n",
    "    else:\n",
    "        print(f\"{len(substring_starts)} matches\")\n",
    "        origin = make_string(F, L)[-2::-1]\n",
    "        print(string)\n",
    "        substring = substring[::-1]\n",
    "        # print(origin)\n",
    "        for start in substring_starts:\n",
    "            i = origin.index(start)\n",
    "            print(\"_\" * i + substring[1:] + \"_\" * (1 + len(string) - i - len(substring)))"
   ]
  },
  {
   "cell_type": "code",
   "execution_count": 40,
   "metadata": {},
   "outputs": [
    {
     "name": "stdout",
     "output_type": "stream",
     "text": [
      "3 matches\n",
      "bbaaabbbabbbasbabbdbababbbababba\n",
      "______________________abbb______\n",
      "____abbb________________________\n",
      "________abbb____________________\n"
     ]
    }
   ],
   "source": [
    "search_matches(\"bbaaabbbabbbasbabbdbababbbababba\", 'abbb')"
   ]
  },
  {
   "cell_type": "code",
   "execution_count": 19,
   "metadata": {},
   "outputs": [
    {
     "name": "stdout",
     "output_type": "stream",
     "text": [
      "1 matches\n",
      "ATGCGGCCAGTTGAGCTGACTTTAGC\n",
      "________AGT_______________\n"
     ]
    }
   ],
   "source": [
    "search_matches(\"ATGCGGCCAGTTGAGCTGACTTTAGC\", 'AGT')"
   ]
  },
  {
   "cell_type": "code",
   "execution_count": null,
   "metadata": {},
   "outputs": [],
   "source": []
  }
 ],
 "metadata": {
  "interpreter": {
   "hash": "916dbcbb3f70747c44a77c7bcd40155683ae19c65e1c03b4aa3499c5328201f1"
  },
  "kernelspec": {
   "display_name": "Python 3.8.10 64-bit",
   "language": "python",
   "name": "python3"
  },
  "language_info": {
   "codemirror_mode": {
    "name": "ipython",
    "version": 3
   },
   "file_extension": ".py",
   "mimetype": "text/x-python",
   "name": "python",
   "nbconvert_exporter": "python",
   "pygments_lexer": "ipython3",
   "version": "3.8.10"
  },
  "orig_nbformat": 4
 },
 "nbformat": 4,
 "nbformat_minor": 2
}
